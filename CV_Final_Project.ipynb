{
 "cells": [
  {
   "cell_type": "markdown",
   "metadata": {},
   "source": [
    "### Import Libraries"
   ]
  },
  {
   "cell_type": "code",
   "execution_count": 7,
   "metadata": {},
   "outputs": [],
   "source": [
    "import cv2\n",
    "import numpy as np\n",
    "from matplotlib import pyplot as plt"
   ]
  },
  {
   "cell_type": "markdown",
   "metadata": {},
   "source": [
    "### Read template image and video"
   ]
  },
  {
   "cell_type": "code",
   "execution_count": 8,
   "metadata": {},
   "outputs": [],
   "source": [
    "img1 = cv2.imread('hand_template.bmp', 0)\n",
    "cap = cv2.VideoCapture('test2.wmv')\n",
    "frame_exists, frame = cap.read()\n",
    "\n",
    "orb1 = cv2.ORB_create(edgeThreshold=0, patchSize=8, nfeatures=2000)\n",
    "orb2 = cv2.ORB_create(edgeThreshold=0, patchSize=8, nfeatures=2000)\n",
    "kp1, des1 = orb1.detectAndCompute(img1,None)"
   ]
  },
  {
   "cell_type": "code",
   "execution_count": 9,
   "metadata": {},
   "outputs": [],
   "source": [
    "while frame_exists:\n",
    "    gray = cv2.cvtColor(frame, cv2.COLOR_BGR2GRAY)\n",
    "    gray = cv2.GaussianBlur(gray, (5, 5), 2)\n",
    "    img2 = cv2.Canny(gray, 60, 160)\n",
    "    kp2, des2 = orb2.detectAndCompute(img2,None)\n",
    "    bf = cv2.BFMatcher(cv2.NORM_HAMMING, crossCheck=True)\n",
    "    matches = bf.match(des1,des2)\n",
    "    matches = sorted(matches, key = lambda x:x.distance)\n",
    "    img3 = cv2.drawMatches(img1,kp1,img2,kp2,matches[:5],None,flags=cv2.DrawMatchesFlags_NOT_DRAW_SINGLE_POINTS)\n",
    "    cv2.imshow('img', img3)\n",
    "    if cv2.waitKey(3000) & 0xFF == ord('q'):\n",
    "        break\n",
    "\n",
    "    for _ in range(100):\n",
    "        frame_exists, frame = cap.read()\n",
    "    \n",
    "cap.release()\n",
    "cv2.destroyAllWindows()"
   ]
  },
  {
   "cell_type": "code",
   "execution_count": null,
   "metadata": {},
   "outputs": [],
   "source": []
  }
 ],
 "metadata": {
  "kernelspec": {
   "display_name": "Python 3",
   "language": "python",
   "name": "python3"
  },
  "language_info": {
   "codemirror_mode": {
    "name": "ipython",
    "version": 3
   },
   "file_extension": ".py",
   "mimetype": "text/x-python",
   "name": "python",
   "nbconvert_exporter": "python",
   "pygments_lexer": "ipython3",
   "version": "3.8.5"
  }
 },
 "nbformat": 4,
 "nbformat_minor": 4
}
