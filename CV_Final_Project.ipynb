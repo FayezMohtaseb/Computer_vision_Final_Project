{
 "cells": [
  {
   "cell_type": "markdown",
   "metadata": {},
   "source": [
    "### Import Libraries"
   ]
  },
  {
   "cell_type": "code",
   "execution_count": 1,
   "metadata": {},
   "outputs": [
    {
     "name": "stderr",
     "output_type": "stream",
     "text": [
      "C:\\Users\\al_kosa\\anaconda3\\lib\\site-packages\\numpy\\_distributor_init.py:30: UserWarning: loaded more than 1 DLL from .libs:\n",
      "C:\\Users\\al_kosa\\anaconda3\\lib\\site-packages\\numpy\\.libs\\libopenblas.PYQHXLVVQ7VESDPUVUADXEVJOBGHJPAY.gfortran-win_amd64.dll\n",
      "C:\\Users\\al_kosa\\anaconda3\\lib\\site-packages\\numpy\\.libs\\libopenblas.QVLO2T66WEPI7JZ63PS3HMOHFEY472BC.gfortran-win_amd64.dll\n",
      "  warnings.warn(\"loaded more than 1 DLL from .libs:\"\n"
     ]
    }
   ],
   "source": [
    "import cv2\n",
    "import numpy as np\n",
    "from matplotlib import pyplot as plt"
   ]
  },
  {
   "cell_type": "markdown",
   "metadata": {},
   "source": [
    "### Highlight the detected shape of the template on the image"
   ]
  },
  {
   "cell_type": "code",
   "execution_count": 2,
   "metadata": {},
   "outputs": [],
   "source": [
    "def highlight_shape(img, temp_img, position):\n",
    "    result = img.copy()\n",
    "    result[position[1]: position[1] + temp_img.shape[0],\n",
    "           position[0]: position[0] + temp_img.shape[1]][temp_img != 0] = [255, 0, 0]\n",
    "    return result"
   ]
  },
  {
   "cell_type": "markdown",
   "metadata": {},
   "source": [
    "### Highlight a rectangle shape on the image"
   ]
  },
  {
   "cell_type": "code",
   "execution_count": 3,
   "metadata": {},
   "outputs": [],
   "source": [
    "def draw_rectangle(img, start, shape, color=[255, 0, 0], thickness=1):\n",
    "    end = start + shape\n",
    "    return cv2.rectangle(img, tuple(start), tuple(end), color, thickness)"
   ]
  },
  {
   "cell_type": "markdown",
   "metadata": {},
   "source": [
    "### Divide template into k segments"
   ]
  },
  {
   "cell_type": "code",
   "execution_count": 4,
   "metadata": {},
   "outputs": [],
   "source": [
    "def get_segments(template, k):\n",
    "    def neighbours(pix):\n",
    "        x = pix[0]\n",
    "        for y in [pix[1]-1, pix[1]+1]:\n",
    "            yield x, y\n",
    "\n",
    "        y = pix[1]\n",
    "        for x in [pix[0]-1, pix[0]+1]:\n",
    "            yield x, y\n",
    "\n",
    "        for x in [pix[0]-1, pix[0]+1]:\n",
    "            for y in [pix[1]-1, pix[1]+1]:\n",
    "                yield x, y\n",
    "\n",
    "    segment_length = int(np.ceil(template.sum() / 255 / k))\n",
    "    xy_pixels = np.nonzero(template)\n",
    "    pixels = list(zip(xy_pixels[0], xy_pixels[1]))\n",
    "    \n",
    "    segments = []\n",
    "    segment = np.zeros_like(template)\n",
    "    queue = []\n",
    "\n",
    "    old_pixel = pixels[330]  # Will deal with this later\n",
    "    segment[old_pixel[0], old_pixel[1]] = 255\n",
    "    pixels.remove(old_pixel)\n",
    "    \n",
    "    for i in range(1, int(template.sum()/255)):\n",
    "        for x, y in neighbours(old_pixel):\n",
    "            if (x, y) in pixels and (x, y) not in queue:\n",
    "                queue.append((x,y))\n",
    "\n",
    "        pixel = queue.pop(0)\n",
    "        segment[pixel[0], pixel[1]] = 255\n",
    "        pixels.remove(pixel)\n",
    "        old_pixel = pixel\n",
    "\n",
    "        if (i+1) % segment_length == 0:\n",
    "            segments.append(segment)\n",
    "            segment = np.zeros_like(template)\n",
    "    else:\n",
    "        if segment.any():\n",
    "            segments.append(segment)\n",
    "            \n",
    "    return segments"
   ]
  },
  {
   "cell_type": "markdown",
   "metadata": {},
   "source": [
    "### Reject Outliers of a Dataset"
   ]
  },
  {
   "cell_type": "code",
   "execution_count": 5,
   "metadata": {},
   "outputs": [],
   "source": [
    "def reject_outliers(data, m=2, axis=0):\n",
    "    d = np.abs(data - np.median(top_left_idx, axis=axis))\n",
    "    mdev = np.median(d, axis=axis)\n",
    "    s = d\n",
    "    for i in range(len(s[axis])):\n",
    "        s[:, i] = d[:, i]/mdev[0] if mdev[0] else 0.\n",
    "    return data[np.all(s<m, axis=-1)]    "
   ]
  },
  {
   "cell_type": "markdown",
   "metadata": {},
   "source": [
    "### Calculate the Mean of a Dataset"
   ]
  },
  {
   "cell_type": "code",
   "execution_count": 6,
   "metadata": {},
   "outputs": [],
   "source": [
    "def get_mean(data, axis=0):\n",
    "    return np.mean(data, axis=axis)"
   ]
  },
  {
   "cell_type": "markdown",
   "metadata": {},
   "source": [
    "### Hyperparameters"
   ]
  },
  {
   "cell_type": "code",
   "execution_count": 7,
   "metadata": {},
   "outputs": [],
   "source": [
    "blur_size = 5\n",
    "blur_sigma = 1\n",
    "canny_low_th = 70\n",
    "canny_up_th = 150\n",
    "\n",
    "n_segments = 10\n",
    "n_max = 300\n",
    "alpha = 0.8\n",
    "memory_size = 10"
   ]
  },
  {
   "cell_type": "markdown",
   "metadata": {},
   "source": [
    "### Read template image and video"
   ]
  },
  {
   "cell_type": "code",
   "execution_count": 8,
   "metadata": {},
   "outputs": [],
   "source": [
    "temp = cv2.imread('hand_template.bmp', 0)\n",
    "height, width = temp.shape[::]\n",
    "cap = cv2.VideoCapture('test2.wmv')\n",
    "frame_exists, frame = cap.read()"
   ]
  },
  {
   "cell_type": "markdown",
   "metadata": {},
   "source": [
    "### Initializations"
   ]
  },
  {
   "cell_type": "code",
   "execution_count": 9,
   "metadata": {},
   "outputs": [],
   "source": [
    "memory = np.zeros((memory_size, 2))\n",
    "counter = 0\n",
    "\n",
    "segments = get_segments(temp, n_segments)"
   ]
  },
  {
   "cell_type": "markdown",
   "metadata": {},
   "source": [
    "### Main loop"
   ]
  },
  {
   "cell_type": "code",
   "execution_count": 10,
   "metadata": {},
   "outputs": [
    {
     "name": "stderr",
     "output_type": "stream",
     "text": [
      "C:\\Users\\al_kosa\\anaconda3\\lib\\site-packages\\numpy\\core\\fromnumeric.py:3372: RuntimeWarning: Mean of empty slice.\n",
      "  return _methods._mean(a, axis=axis, dtype=dtype,\n",
      "C:\\Users\\al_kosa\\anaconda3\\lib\\site-packages\\numpy\\core\\_methods.py:162: RuntimeWarning: invalid value encountered in true_divide\n",
      "  ret = um.true_divide(\n"
     ]
    }
   ],
   "source": [
    "# For each frame\n",
    "while frame_exists:    \n",
    "    cm = []\n",
    "    max_ind = []\n",
    "    \n",
    "    # Preprocessing\n",
    "    top, bottom, left, right = [height // 4] * 2 + [width // 4] * 2\n",
    "    frame_padded = cv2.copyMakeBorder(frame, top, bottom, left, right, cv2.BORDER_CONSTANT, value=[0, 0, 0])\n",
    "    gray = cv2.cvtColor(frame, cv2.COLOR_BGR2GRAY)\n",
    "    gray = cv2.GaussianBlur(gray, (blur_size, blur_size), blur_sigma)\n",
    "    edges = cv2.Canny(gray, canny_low_th, canny_up_th)\n",
    "    edges = cv2.copyMakeBorder(edges, top, bottom, left, right, cv2.BORDER_CONSTANT, value=0)\n",
    "    \n",
    "    # Calculate distance transform\n",
    "    dist = cv2.distanceTransform(255 - edges, cv2.DIST_L2, 3)\n",
    "    cv2.normalize(dist, dist, 0, 255, cv2.NORM_MINMAX)\n",
    "    dist = dist.astype(np.uint8)\n",
    "    \n",
    "    # Apply chamfer matching and save the indeces of the top (n_max) values for each segment\n",
    "    for seg in segments:\n",
    "        cm.append((cv2.matchTemplate(255 - dist, seg, cv2.TM_CCORR) / seg.sum()))\n",
    "        ind = np.unravel_index((-1*cm[-1]).argsort(axis=None), cm[-1].shape)\n",
    "        max_ind.append(np.array([ind[0][:n_max], ind[1][:n_max]]))\n",
    "    \n",
    "    # Get the indeces that minimize a cost function that depends on the matching values and the distance between segments\n",
    "    cost_old = alpha * (1 - (cm[0][tuple(max_ind[0])] / 255))\n",
    "    idx_tracker = [[x] for x in range(n_max)]\n",
    "    for i in range(1, n_segments):\n",
    "        cost = cost_old[:, None] + alpha * (1 - (cm[i][tuple(max_ind[i])] / 255)) + \\\n",
    "               (1 - alpha) * np.exp(2 * (np.linalg.norm(max_ind[i] - max_ind[i - 1], axis=0)))\n",
    "        idx = np.unravel_index((cost).argsort(axis=None), cost.shape)\n",
    "        idx = (idx[0][:n_max], idx[1][:n_max])\n",
    "        cost_old = cost[idx]\n",
    "        idx_tracker1 = idx_tracker.copy()\n",
    "        idx_tracker = [idx_tracker1[x] + [y] for x, y in list(zip(idx[0], idx[1]))]\n",
    "    tracked_idx = idx_tracker[0]\n",
    "    top_left_idx = np.array([np.array(max_ind)[x, :, tracked_idx[x]] for x in range(n_segments)])\n",
    "    \n",
    "    # Highlight each segment at its maximum value index\n",
    "    hl_img = frame_padded\n",
    "    for i in range(n_segments):\n",
    "        hl_img = highlight_shape(hl_img, segments[i], (top_left_idx[i, 1], top_left_idx[i, 0]))\n",
    "    \n",
    "    # Reject indeces outliers then calculate the mean\n",
    "    top_left_idx_filtered = reject_outliers(top_left_idx)\n",
    "    top_left = get_mean(top_left_idx_filtered).astype(np.int64)\n",
    "    \n",
    "    # Calculate the mean of the indeces for a number of consecutive frames (for smoothing)\n",
    "    if(np.all(top_left >= 0)):\n",
    "        memory[counter % memory_size] = top_left\n",
    "        if(counter >= (memory_size - 1)):\n",
    "            top_left = get_mean(memory).astype(np.int64)\n",
    "    \n",
    "    # Highlight a rectangular shape at the calculated mean index\n",
    "    try:\n",
    "        rect_hl_img = draw_rectangle(frame_padded, top_left[::-1], temp.shape[::-1])\n",
    "    except TypeError:\n",
    "        rect_hl_img = frame_padded\n",
    "    \n",
    "    # Show results\n",
    "    cv2.imshow('dt', dist)\n",
    "    cv2.imshow('Edges', edges)\n",
    "    cv2.imshow('Tracking', hl_img)\n",
    "    cv2.imshow('Tracking2', rect_hl_img)\n",
    "\n",
    "    if cv2.waitKey(1) & 0xFF == ord('q'):\n",
    "        break\n",
    "    \n",
    "    # Get next frame\n",
    "    frame_exists, frame = cap.read()\n",
    "    counter += 1\n",
    "\n",
    "cap.release()\n",
    "cv2.destroyAllWindows()"
   ]
  },
  {
   "cell_type": "code",
   "execution_count": null,
   "metadata": {},
   "outputs": [],
   "source": []
  }
 ],
 "metadata": {
  "kernelspec": {
   "display_name": "Python 3",
   "language": "python",
   "name": "python3"
  },
  "language_info": {
   "codemirror_mode": {
    "name": "ipython",
    "version": 3
   },
   "file_extension": ".py",
   "mimetype": "text/x-python",
   "name": "python",
   "nbconvert_exporter": "python",
   "pygments_lexer": "ipython3",
   "version": "3.8.5"
  }
 },
 "nbformat": 4,
 "nbformat_minor": 4
}
