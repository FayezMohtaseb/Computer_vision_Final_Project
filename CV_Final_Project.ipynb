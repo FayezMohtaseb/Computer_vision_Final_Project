{
 "cells": [
  {
   "cell_type": "markdown",
   "metadata": {},
   "source": [
    "### Import Libraries"
   ]
  },
  {
   "cell_type": "code",
   "execution_count": 5,
   "metadata": {},
   "outputs": [],
   "source": [
    "import cv2\n",
    "import numpy as np\n",
    "from matplotlib import pyplot as plt"
   ]
  },
  {
   "cell_type": "markdown",
   "metadata": {},
   "source": [
    "### Highlight the detected shape of the template on the image"
   ]
  },
  {
   "cell_type": "code",
   "execution_count": 2,
   "metadata": {},
   "outputs": [],
   "source": [
    "def highlight_shape(img, temp_img, position):\n",
    "    result = img.copy()\n",
    "    result[position[1]: position[1] + temp_img.shape[0],\n",
    "           position[0]: position[0] + tesmp_img.shape[1]][temp_img != 0] = [255, 0, 0]\n",
    "    return result"
   ]
  },
  {
   "cell_type": "markdown",
   "metadata": {},
   "source": [
    "### Read template image and video"
   ]
  },
  {
   "cell_type": "code",
   "execution_count": 62,
   "metadata": {},
   "outputs": [],
   "source": [
    "temp = cv2.imread('hand_template.bmp', 0)\n",
    "height, width = temp.shape[::]\n",
    "cap = cv2.VideoCapture('test2.wmv')\n",
    "frame_exists, frame = cap.read()"
   ]
  },
  {
   "cell_type": "markdown",
   "metadata": {},
   "source": [
    "### For each frame:\n",
    "* Convert the frame to gray scale\n",
    "* Apply Canny edge detection\n",
    "* Apply distance transformation\n",
    "* Get the chamfer matching by correlating the transformed frame with the template\n",
    "* Get the location of the maximum matched value\n",
    "* Highlight the shape at that location"
   ]
  },
  {
   "cell_type": "code",
   "execution_count": 63,
   "metadata": {},
   "outputs": [],
   "source": [
    "while frame_exists:\n",
    "    gray = cv2.cvtColor(frame, cv2.COLOR_BGR2GRAY)\n",
    "    gray = cv2.GaussianBlur(gray, (7, 7), 1)\n",
    "    edges = cv2.Canny(gray, 50, 200)\n",
    "    dist = cv2.distanceTransform(edges, cv2.DIST_L2, 3)\n",
    "    cv2.normalize(dist, dist, 0, 255, cv2.NORM_MINMAX)\n",
    "    dist = dist.astype(np.uint8)\n",
    "    \n",
    "    max_val_all = 0\n",
    "    for scale_percent in range(80, 150, 10):\n",
    "        new_width = int(width * scale_percent / 100)\n",
    "        new_height = int(height * scale_percent / 100)\n",
    "        dim = (new_width, new_height)\n",
    "        temp_resized = cv2.resize(temp, dim, interpolation=cv2.INTER_AREA)\n",
    "\n",
    "        cm = cv2.matchTemplate(dist, temp_resized, cv2.TM_CCORR)\n",
    "        min_val, max_val, min_loc, max_loc = cv2.minMaxLoc(cm)\n",
    "        max_val /= temp_resized.sum()\n",
    "        if max_val > max_val_all:\n",
    "            max_val_all = max_val\n",
    "            top_left = max_loc\n",
    "            temp_hl = temp_resized\n",
    "            \n",
    "    hl = highlight_shape(frame, temp_hl, top_left)\n",
    "    cv2.imshow('Edges', edges)\n",
    "    cv2.imshow('Tracking', hl)\n",
    "\n",
    "    if cv2.waitKey(10) & 0xFF == ord('q'):\n",
    "        break\n",
    "\n",
    "    frame_exists, frame = cap.read()\n",
    "\n",
    "cap.release()\n",
    "cv2.destroyAllWindows()"
   ]
  },
  {
   "cell_type": "code",
   "execution_count": null,
   "metadata": {},
   "outputs": [],
   "source": []
  }
 ],
 "metadata": {
  "kernelspec": {
   "display_name": "Python 3",
   "language": "python",
   "name": "python3"
  },
  "language_info": {
   "codemirror_mode": {
    "name": "ipython",
    "version": 3
   },
   "file_extension": ".py",
   "mimetype": "text/x-python",
   "name": "python",
   "nbconvert_exporter": "python",
   "pygments_lexer": "ipython3",
   "version": "3.8.5"
  }
 },
 "nbformat": 4,
 "nbformat_minor": 4
}
